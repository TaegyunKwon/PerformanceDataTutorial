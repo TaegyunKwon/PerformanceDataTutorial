{
 "cells": [
  {
   "cell_type": "code",
   "execution_count": null,
   "id": "90c7e2bd-4b0c-40a8-a368-f8e71f217cf2",
   "metadata": {},
   "outputs": [],
   "source": [
    "# !pip install music21==7.1\n",
    "# !add-apt-repository ppa:mscore-ubuntu/mscore3-stable\n",
    "# !apt-get update\n",
    "# !apt-get install musescore3"
   ]
  },
  {
   "cell_type": "code",
   "execution_count": null,
   "id": "3ab26fbf-c020-44d6-b688-177c43512969",
   "metadata": {},
   "outputs": [],
   "source": [
    "from music21 import *\n",
    "us = environment.UserSettings()\n",
    "us['musescoreDirectPNGPath'] = '/usr/bin/musescore3'\n",
    "us['directoryScratch'] = '/tmp'"
   ]
  },
  {
   "cell_type": "code",
   "execution_count": null,
   "id": "f2df4278-4b0c-4157-98fe-974e43532ac4",
   "metadata": {},
   "outputs": [],
   "source": [
    "import music21"
   ]
  },
  {
   "cell_type": "code",
   "execution_count": null,
   "id": "ec557419-05a0-4992-b451-23b9c9f63513",
   "metadata": {},
   "outputs": [],
   "source": [
    "n = note.Note('C#5')\n",
    "n.show()"
   ]
  },
  {
   "cell_type": "code",
   "execution_count": null,
   "id": "9f534b94-8e54-497a-b45d-7b5e36ea8a3b",
   "metadata": {},
   "outputs": [],
   "source": [
    "score = 'assets/Beethoven_Sonata_8_2/score.xml'"
   ]
  },
  {
   "cell_type": "code",
   "execution_count": null,
   "id": "ef2d56fb-8f5e-4b21-9511-1bafba388538",
   "metadata": {},
   "outputs": [],
   "source": [
    "c = converter.parse(score)\n",
    "c.measures(1, 5).show() # show first 5 measures"
   ]
  },
  {
   "cell_type": "code",
   "execution_count": null,
   "id": "0aed8f95-1d93-4957-b071-d19398c128e8",
   "metadata": {
    "tags": []
   },
   "outputs": [],
   "source": []
  }
 ],
 "metadata": {
  "jupytext": {
   "formats": "ipynb,py:light"
  },
  "kernelspec": {
   "display_name": "Python 3 (ipykernel)",
   "language": "python",
   "name": "python3"
  },
  "language_info": {
   "codemirror_mode": {
    "name": "ipython",
    "version": 3
   },
   "file_extension": ".py",
   "mimetype": "text/x-python",
   "name": "python",
   "nbconvert_exporter": "python",
   "pygments_lexer": "ipython3",
   "version": "3.9.11"
  }
 },
 "nbformat": 4,
 "nbformat_minor": 5
}
