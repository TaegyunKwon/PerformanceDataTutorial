{
 "cells": [
  {
   "cell_type": "code",
   "execution_count": 13,
   "id": "4354f0bd-dfea-471a-b81b-795cf8fa5cc1",
   "metadata": {},
   "outputs": [],
   "source": [
    "import pretty_midi\n",
    "from pathlib import Path"
   ]
  },
  {
   "cell_type": "code",
   "execution_count": 14,
   "id": "649d6800-2441-4683-b2e6-d03c9516149a",
   "metadata": {},
   "outputs": [
    {
     "name": "stdout",
     "output_type": "stream",
     "text": [
      "[PosixPath('../assets/Bach_BWV849-01_001_20090916-SMD.mid'), PosixPath('../assets/Bach.french-suite_bwv812_no1_allemande.mm_1-end.s004.E1.mid'), PosixPath('../assets/MAPS_MUS-alb_se2_ENSTDkCl.mid'), PosixPath('../assets/The Day We Find Love.mid')]\n"
     ]
    }
   ],
   "source": [
    "midi_examples = list(Path('../assets').glob('*.mid'))\n",
    "print(midi_examples)"
   ]
  },
  {
   "cell_type": "markdown",
   "id": "09f046b0-0293-46d9-b713-70afa381cb63",
   "metadata": {},
   "source": [
    "## Load"
   ]
  },
  {
   "cell_type": "code",
   "execution_count": 16,
   "id": "a5664f4c-d666-425c-9720-81a87397aaa5",
   "metadata": {},
   "outputs": [
    {
     "name": "stdout",
     "output_type": "stream",
     "text": [
      "../assets/The Day We Find Love.mid\n"
     ]
    }
   ],
   "source": [
    "select_idx = 3\n",
    "midi_path = str(midi_examples[select_idx])\n",
    "print(midi_path)"
   ]
  },
  {
   "cell_type": "code",
   "execution_count": 17,
   "id": "5abeda88-5ad8-492c-9946-9992813f75a9",
   "metadata": {},
   "outputs": [
    {
     "name": "stdout",
     "output_type": "stream",
     "text": [
      "<pretty_midi.pretty_midi.PrettyMIDI object at 0x7f99bf761c70>\n"
     ]
    }
   ],
   "source": [
    "mid = pretty_midi.PrettyMIDI(midi_path) # pretty_midi does not support Path\n",
    "print(mid)"
   ]
  },
  {
   "cell_type": "markdown",
   "id": "bb13d5df-fb1a-4fc1-be35-9c46fae67977",
   "metadata": {},
   "source": [
    "### Ex 1: change tempo 1.2 times"
   ]
  },
  {
   "cell_type": "code",
   "execution_count": 18,
   "id": "ec455d07-a3d0-4f33-a860-cddf6af7f0e5",
   "metadata": {},
   "outputs": [],
   "source": [
    "new_mid = pretty_midi.PrettyMIDI()\n",
    "piano_program = pretty_midi.instrument_name_to_program('Acoustic Grand Piano')  #  == 0\n",
    "piano_inst = pretty_midi.Instrument(program=piano_program)"
   ]
  },
  {
   "cell_type": "code",
   "execution_count": 11,
   "id": "293ae2b9-72fe-4768-a136-065fd4152e1a",
   "metadata": {},
   "outputs": [],
   "source": [
    "for note in mid.instruments[0].notes:\n",
    "    new_note = note\n",
    "    new_note.start = note.start / 1.2\n",
    "    new_notes.end = note.end / 1.2\n",
    "    piano_inst.notes.append(new_note)"
   ]
  },
  {
   "cell_type": "code",
   "execution_count": 12,
   "id": "cfc18ea3-9e80-4346-802e-85bc9d0eccf7",
   "metadata": {},
   "outputs": [],
   "source": [
    "new_mid.instruments.append(piano_inst)\n",
    "new_mid.write('new_midi.mid')"
   ]
  },
  {
   "cell_type": "code",
   "execution_count": null,
   "id": "4c03790e-add6-40b7-b15f-a5567376f410",
   "metadata": {},
   "outputs": [],
   "source": []
  }
 ],
 "metadata": {
  "jupytext": {
   "formats": "ipynb,auto:light"
  },
  "kernelspec": {
   "display_name": "Python 3 (ipykernel)",
   "language": "python",
   "name": "python3"
  },
  "language_info": {
   "codemirror_mode": {
    "name": "ipython",
    "version": 3
   },
   "file_extension": ".py",
   "mimetype": "text/x-python",
   "name": "python",
   "nbconvert_exporter": "python",
   "pygments_lexer": "ipython3",
   "version": "3.9.11"
  }
 },
 "nbformat": 4,
 "nbformat_minor": 5
}
