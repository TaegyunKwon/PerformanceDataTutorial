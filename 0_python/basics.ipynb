{
 "cells": [
  {
   "cell_type": "markdown",
   "id": "4184bf4a-0421-4276-8726-26a6c213abb1",
   "metadata": {},
   "source": [
    "## List Comprehension"
   ]
  },
  {
   "cell_type": "code",
   "execution_count": 3,
   "id": "3ca957de-0e66-4525-8b7c-72683501057e",
   "metadata": {},
   "outputs": [
    {
     "name": "stdout",
     "output_type": "stream",
     "text": [
      "[0, 1, 2, 3, 4, 5, 6, 7, 8, 9]\n"
     ]
    }
   ],
   "source": [
    "a = [el for el in range(10)]\n",
    "print(a)"
   ]
  },
  {
   "cell_type": "markdown",
   "id": "f8dbd437-2ae6-4eba-86b3-c301bf443d26",
   "metadata": {},
   "source": [
    "is equal to:"
   ]
  },
  {
   "cell_type": "code",
   "execution_count": 6,
   "id": "06956e0e-49a6-4017-b0a2-741e6207ea2a",
   "metadata": {},
   "outputs": [
    {
     "name": "stdout",
     "output_type": "stream",
     "text": [
      "[0, 1, 2, 3, 4, 5, 6, 7, 8, 9]\n"
     ]
    }
   ],
   "source": [
    "a = []\n",
    "for el in range(10):\n",
    "    a.append(el)\n",
    "print(a)"
   ]
  },
  {
   "cell_type": "markdown",
   "id": "fc77143d-bf60-4284-81f7-ae7caee729bb",
   "metadata": {
    "tags": []
   },
   "source": [
    "## Ranged list"
   ]
  },
  {
   "cell_type": "code",
   "execution_count": 13,
   "id": "a8346945-86d6-42e9-be6c-3a48c293a433",
   "metadata": {},
   "outputs": [
    {
     "name": "stdout",
     "output_type": "stream",
     "text": [
      "range(0, 10, 2)\n",
      "[0, 2, 4, 6, 8]\n"
     ]
    }
   ],
   "source": [
    "start = 0\n",
    "step = 2\n",
    "end = 10\n",
    "a = range(start, end, step)\n",
    "print(a) # a is generator, not the list itself\n",
    "print(list(a))"
   ]
  },
  {
   "cell_type": "markdown",
   "id": "8332d692-fde5-49e0-bb6c-2b525f0c57cd",
   "metadata": {},
   "source": [
    "only integers are allowed"
   ]
  },
  {
   "cell_type": "code",
   "execution_count": 18,
   "id": "eb30b175-4be9-423f-9b54-1f50f9a19df9",
   "metadata": {},
   "outputs": [
    {
     "ename": "TypeError",
     "evalue": "'float' object cannot be interpreted as an integer",
     "output_type": "error",
     "traceback": [
      "\u001b[0;31m---------------------------------------------------------------------------\u001b[0m",
      "\u001b[0;31mTypeError\u001b[0m                                 Traceback (most recent call last)",
      "Input \u001b[0;32mIn [18]\u001b[0m, in \u001b[0;36m<cell line: 1>\u001b[0;34m()\u001b[0m\n\u001b[0;32m----> 1\u001b[0m \u001b[38;5;28mprint\u001b[39m(\u001b[38;5;28;43mrange\u001b[39;49m\u001b[43m(\u001b[49m\u001b[38;5;241;43m0\u001b[39;49m\u001b[43m,\u001b[49m\u001b[38;5;241;43m9.5\u001b[39;49m\u001b[43m,\u001b[49m\u001b[38;5;241;43m2\u001b[39;49m\u001b[43m)\u001b[49m)\n",
      "\u001b[0;31mTypeError\u001b[0m: 'float' object cannot be interpreted as an integer"
     ]
    }
   ],
   "source": [
    "print(range(0,9.5,2)) # error raise"
   ]
  },
  {
   "cell_type": "code",
   "execution_count": 16,
   "id": "28485c0f-5e5c-4560-b19b-5deedd09fa13",
   "metadata": {},
   "outputs": [
    {
     "name": "stdout",
     "output_type": "stream",
     "text": [
      "[0, 3, 6, 9]\n"
     ]
    }
   ],
   "source": [
    "print(list(range(0,10,3)))"
   ]
  },
  {
   "cell_type": "markdown",
   "id": "9afc3bbd-fb75-497f-9765-d02a061a9743",
   "metadata": {},
   "source": [
    "## Basic indexing"
   ]
  },
  {
   "cell_type": "code",
   "execution_count": 17,
   "id": "706c3d8b-f7e8-4e19-bb86-fcf40be46435",
   "metadata": {},
   "outputs": [
    {
     "name": "stdout",
     "output_type": "stream",
     "text": [
      "[0, 1, 2, 3, 4, 5, 6, 7, 8, 9]\n",
      "6\n",
      "4\n"
     ]
    }
   ],
   "source": [
    "a = list(range(10))\n",
    "print(a)\n",
    "\n",
    "# i-th value:\n",
    "i = 6\n",
    "print(a[i])\n",
    "\n",
    "# i-th from backward:\n",
    "print(a[-i])"
   ]
  },
  {
   "cell_type": "markdown",
   "id": "8cc9e1b1-280f-4985-b482-0231ff3dceb6",
   "metadata": {},
   "source": [
    "## Path control\n",
    "https://docs.python.org/3/library/pathlib.html"
   ]
  },
  {
   "cell_type": "code",
   "execution_count": 19,
   "id": "09813e8b-04dd-4c3e-b8dd-b8aad2813d9b",
   "metadata": {},
   "outputs": [],
   "source": [
    "from pathlib import Path"
   ]
  },
  {
   "cell_type": "markdown",
   "id": "02d153b0-39f0-4adc-8a05-0212a642cd55",
   "metadata": {},
   "source": [
    "List files in a directory"
   ]
  },
  {
   "cell_type": "code",
   "execution_count": 28,
   "id": "9560b368-7e52-4ab3-840b-3e447ae1f365",
   "metadata": {},
   "outputs": [
    {
     "data": {
      "text/plain": [
       "[PosixPath('basics_assets/a.txt'),\n",
       " PosixPath('basics_assets/e.json'),\n",
       " PosixPath('basics_assets/.ipynb_checkpoints'),\n",
       " PosixPath('basics_assets/d.py'),\n",
       " PosixPath('basics_assets/c.txt'),\n",
       " PosixPath('basics_assets/b.txt')]"
      ]
     },
     "execution_count": 28,
     "metadata": {},
     "output_type": "execute_result"
    }
   ],
   "source": [
    "list(Path('basics_assets').iterdir())"
   ]
  },
  {
   "cell_type": "markdown",
   "id": "8d6fcd7c-d48b-4cd2-b5ad-3436ab31a5bc",
   "metadata": {},
   "source": [
    "Find files with specific extension"
   ]
  },
  {
   "cell_type": "code",
   "execution_count": 29,
   "id": "8051deb2-505f-40b5-a66f-f0086c82827a",
   "metadata": {},
   "outputs": [
    {
     "data": {
      "text/plain": [
       "[PosixPath('basics_assets/d.py')]"
      ]
     },
     "execution_count": 29,
     "metadata": {},
     "output_type": "execute_result"
    }
   ],
   "source": [
    "list(Path('basics_assets').glob('*.py'))"
   ]
  },
  {
   "cell_type": "markdown",
   "id": "fce001bc-f251-4f57-8040-5e9011c3ff56",
   "metadata": {},
   "source": [
    "write down specific file"
   ]
  },
  {
   "cell_type": "code",
   "execution_count": 30,
   "id": "54d20c43-1ec8-4a38-9a3a-5a2cea87f5ff",
   "metadata": {},
   "outputs": [],
   "source": [
    "file_name = Path('basics_assets') / 'e.json'"
   ]
  },
  {
   "cell_type": "code",
   "execution_count": 26,
   "id": "d27b4ebd-5e2d-4343-a489-921eb333a1df",
   "metadata": {},
   "outputs": [
    {
     "name": "stdout",
     "output_type": "stream",
     "text": [
      "assets\n"
     ]
    }
   ],
   "source": [
    "print(file_name.parent)"
   ]
  },
  {
   "cell_type": "code",
   "execution_count": 27,
   "id": "a03c8987-c460-4577-aa92-ee933e389012",
   "metadata": {},
   "outputs": [
    {
     "name": "stdout",
     "output_type": "stream",
     "text": [
      "e.json\n"
     ]
    }
   ],
   "source": [
    "print(file_name.name)"
   ]
  },
  {
   "cell_type": "markdown",
   "id": "5f9f0a83-f82b-4800-b2ad-0b23f0dabc1b",
   "metadata": {},
   "source": [
    "### Lambda Sort"
   ]
  },
  {
   "cell_type": "code",
   "execution_count": 6,
   "id": "5b91cad3-47c8-4785-b236-aa6d183ae271",
   "metadata": {},
   "outputs": [],
   "source": [
    "import numpy as np\n",
    "import randomname"
   ]
  },
  {
   "cell_type": "markdown",
   "id": "a9cb84e3-4200-4802-90d3-81379e0f1bd3",
   "metadata": {},
   "source": [
    "make arbitary data"
   ]
  },
  {
   "cell_type": "code",
   "execution_count": 9,
   "id": "862977ad-6ffc-41f0-abd5-c567f530a27b",
   "metadata": {},
   "outputs": [
    {
     "name": "stdout",
     "output_type": "stream",
     "text": [
      "[('vicious-reef', 32), ('wide-flight', 5), ('religious-monitor', 58), ('glowing-shim', 21), ('blistering-dark', 30), ('beige-tambourine', 16), ('cold-archive', 83), ('funny-shadow', 75), ('proper-duffel', 7), ('beveled-belt', 2)]\n"
     ]
    }
   ],
   "source": [
    "unsorted_list = []\n",
    "for n in range(10):\n",
    "    user_name = randomname.generate()\n",
    "    age = np.random.randint(100)\n",
    "    unsorted_list.append((user_name, age))\n",
    "print(unsorted_list)"
   ]
  },
  {
   "cell_type": "markdown",
   "id": "150219ec-99ed-4024-9f41-3e87327260c0",
   "metadata": {},
   "source": [
    "sort them according to second element (age)"
   ]
  },
  {
   "cell_type": "code",
   "execution_count": 12,
   "id": "dcbe0b3c-e245-4645-80f0-ecb71f4ebb51",
   "metadata": {},
   "outputs": [],
   "source": [
    "sorted_list = sorted(unsorted_list, key=lambda x:x[1]) # x[1] becomes standard"
   ]
  },
  {
   "cell_type": "code",
   "execution_count": 11,
   "id": "09e033df-543a-4d7f-960b-fb69e82b4e9f",
   "metadata": {},
   "outputs": [
    {
     "name": "stdout",
     "output_type": "stream",
     "text": [
      "[('beveled-belt', 2), ('wide-flight', 5), ('proper-duffel', 7), ('beige-tambourine', 16), ('glowing-shim', 21), ('blistering-dark', 30), ('vicious-reef', 32), ('religious-monitor', 58), ('funny-shadow', 75), ('cold-archive', 83)]\n"
     ]
    }
   ],
   "source": [
    "print(sorted_list)"
   ]
  },
  {
   "cell_type": "markdown",
   "id": "850cdf56-96fb-46f7-9fae-064f2c06ff78",
   "metadata": {},
   "source": [
    "### F string"
   ]
  },
  {
   "cell_type": "code",
   "execution_count": 18,
   "id": "bdac8868-ae74-4615-be6d-33d3a0c85efc",
   "metadata": {},
   "outputs": [
    {
     "name": "stdout",
     "output_type": "stream",
     "text": [
      "you can write python variables like this:     Taegyun Kwon's height is 187.5,     and he have ['piano', 'flower', 'book'] in his pocket\n"
     ]
    }
   ],
   "source": [
    "name = 'Taegyun Kwon'\n",
    "height = 187.5\n",
    "item_in_pocket = ['piano', 'flower', 'book']\n",
    "\n",
    "print(\n",
    "    f\"you can write python variables like this: \\\n",
    "    {name}'s height is {height}, \\\n",
    "    and he have {item_in_pocket} in his pocket\")"
   ]
  },
  {
   "cell_type": "code",
   "execution_count": 20,
   "id": "94532f74-50db-4961-9844-3fefff53f82a",
   "metadata": {},
   "outputs": [
    {
     "name": "stdout",
     "output_type": "stream",
     "text": [
      "you can do everything inside. 2 + 4.6 = 6.6\n",
      "you can control digits with :.(digit)f expression. c = 0.1235\n"
     ]
    }
   ],
   "source": [
    "a = 2\n",
    "b = 4.6\n",
    "c = 0.123456789\n",
    "print(f'you can do everything inside. {a} + {b} = {a+b}')\n",
    "print(f'you can control digits with :.(digit)f expression. c = {c:.4f}')"
   ]
  },
  {
   "cell_type": "markdown",
   "id": "ec8e387a-8c30-4d6a-8343-74a3618d444c",
   "metadata": {},
   "source": [
    "### File read & write"
   ]
  }
 ],
 "metadata": {
  "jupytext": {
   "formats": "ipynb,py:percent"
  },
  "kernelspec": {
   "display_name": "Python 3 (ipykernel)",
   "language": "python",
   "name": "python3"
  },
  "language_info": {
   "codemirror_mode": {
    "name": "ipython",
    "version": 3
   },
   "file_extension": ".py",
   "mimetype": "text/x-python",
   "name": "python",
   "nbconvert_exporter": "python",
   "pygments_lexer": "ipython3",
   "version": "3.9.11"
  }
 },
 "nbformat": 4,
 "nbformat_minor": 5
}
