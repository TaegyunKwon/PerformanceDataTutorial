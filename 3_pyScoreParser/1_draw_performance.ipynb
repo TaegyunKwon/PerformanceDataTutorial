{
 "cells": [
  {
   "cell_type": "code",
   "execution_count": 1,
   "id": "d1c9c510-4ebf-4e55-9ecc-38e70c676108",
   "metadata": {},
   "outputs": [],
   "source": [
    "%load_ext autoreload\n",
    "%autoreload\n",
    "from pyScoreParser import data_class, xml_utils, utils, feature_utils\n",
    "from pathlib import Path\n",
    "import numpy as np\n",
    "import matplotlib.pyplot as plt"
   ]
  },
  {
   "cell_type": "code",
   "execution_count": 2,
   "id": "f2bc65c0-a5ef-48b9-98fc-3380a9895627",
   "metadata": {},
   "outputs": [
    {
     "name": "stdout",
     "output_type": "stream",
     "text": [
      "/data/projects/PerformanceDataTutorial/3_pyScoreParser\n"
     ]
    }
   ],
   "source": [
    "!pwd # should be notebook directory"
   ]
  },
  {
   "cell_type": "code",
   "execution_count": 3,
   "id": "c4f8e7ce-8c0e-47cb-8388-33c6bd1cd182",
   "metadata": {},
   "outputs": [],
   "source": [
    "file_root = '../assets/Beethoven_Sonata_8_2/'\n",
    "xml_file = Path(file_root) / 'score.xml'\n",
    "midi_files = [el for el in Path(file_root).glob('*.mid') if 'score' not in el.name]"
   ]
  },
  {
   "cell_type": "code",
   "execution_count": 4,
   "id": "6a191e1a-269f-46b3-82e7-5a19ba35fad5",
   "metadata": {},
   "outputs": [
    {
     "name": "stdout",
     "output_type": "stream",
     "text": [
      "available_pairs: 1526\n",
      "Number of mismatched notes:  0\n",
      "Matched:1531 (Diff(nonzero_score):98), \n",
      " match after cleaning:1531 (diff:0)\n",
      "Number of Matched Notes: 1531, unmatched notes: 98\n",
      "available_pairs: 1454\n",
      "Number of mismatched notes:  21\n",
      "Matched:1460 (Diff(nonzero_score):169), \n",
      " match after cleaning:1442 (diff:18)\n",
      "Number of Matched Notes: 1442, unmatched notes: 187\n",
      "available_pairs: 1536\n",
      "Number of mismatched notes:  14\n",
      "Matched:1542 (Diff(nonzero_score):87), \n",
      " match after cleaning:1532 (diff:10)\n",
      "Number of Matched Notes: 1532, unmatched notes: 97\n"
     ]
    }
   ],
   "source": [
    "piece_data = data_class.PieceData(xml_path=xml_file,\n",
    "                                  perform_lists=midi_files)"
   ]
  },
  {
   "cell_type": "code",
   "execution_count": 5,
   "id": "ee2c6e76-8000-4e13-bc4d-549cae88f6a7",
   "metadata": {},
   "outputs": [],
   "source": [
    "performance = piece_data.performances[0]"
   ]
  },
  {
   "cell_type": "code",
   "execution_count": 6,
   "id": "b79234bb-409c-41f4-848c-34158474642c",
   "metadata": {},
   "outputs": [],
   "source": [
    "perform_notes = performance.midi_notes"
   ]
  },
  {
   "cell_type": "code",
   "execution_count": 7,
   "id": "f01afc43-5047-49f0-8aa3-020fda553146",
   "metadata": {},
   "outputs": [
    {
     "data": {
      "text/plain": [
       "Note(start=0.832292, end=2.944792, pitch=60, velocity=59)"
      ]
     },
     "execution_count": 7,
     "metadata": {},
     "output_type": "execute_result"
    }
   ],
   "source": [
    "perform_notes[0]"
   ]
  },
  {
   "cell_type": "markdown",
   "id": "70b5c37a-34d2-438c-9f10-977c1e558b2d",
   "metadata": {
    "tags": []
   },
   "source": [
    "### make piano roll with perform_notes"
   ]
  },
  {
   "cell_type": "code",
   "execution_count": 8,
   "id": "5d6567f6-8692-460c-95d7-fb897ea4e435",
   "metadata": {
    "tags": []
   },
   "outputs": [],
   "source": [
    "matched_idx = performance.match_between_xml_perf"
   ]
  },
  {
   "cell_type": "code",
   "execution_count": 10,
   "id": "22857cd8-3039-430c-88c5-66e4e0043158",
   "metadata": {},
   "outputs": [],
   "source": [
    "def note_to_pixel(note, frame_per_second=50):\n",
    "    # convert note into array index\n",
    "    onset_x = np.rint(note.start*frame_per_second)\n",
    "    offset_x = np.rint(note.end*frame_per_second)\n",
    "    y = note.pitch - 21\n",
    "    return dict(x_start=onset_x, x_end=offset_x, y=y)"
   ]
  },
  {
   "cell_type": "code",
   "execution_count": 11,
   "id": "ea1cf10a-d1b1-421e-8772-a003c9d6de06",
   "metadata": {},
   "outputs": [
    {
     "data": {
      "text/plain": [
       "{'x_start': 42.0, 'x_end': 147.0, 'y': 39}"
      ]
     },
     "execution_count": 11,
     "metadata": {},
     "output_type": "execute_result"
    }
   ],
   "source": [
    "note_to_pixel(perform_notes[0])"
   ]
  },
  {
   "cell_type": "code",
   "execution_count": 12,
   "id": "da210eaf-5174-47b1-b77b-c34efa5fcbce",
   "metadata": {
    "lines_to_next_cell": 2
   },
   "outputs": [
    {
     "data": {
      "image/png": "[encoded data removed]",
      "text/plain": [
       "<Figure size 720x360 with 1 Axes>"
      ]
     },
     "metadata": {
      "needs_background": "light"
     },
     "output_type": "display_data"
    }
   ],
   "source": [
    "draw_range = 30 # let's draw first 30 seconds\n",
    "figure = plt.figure(figsize=(10,5))\n",
    "for note in perform_notes:\n",
    "    if note.start < draw_range:\n",
    "        arr_dict = note_to_pixel(note)\n",
    "        # plt.hlines(arr_dict['y'], [arr_dict['x_start'], arr_dict['x_end']])\n",
    "        plt.plot([arr_dict['x_start'], arr_dict['x_end']], [arr_dict['y'], arr_dict['y']], linewidth=4, color='b')"
   ]
  },
  {
   "cell_type": "markdown",
   "id": "cca9f874-3f39-4bdb-a897-2fa254d640b8",
   "metadata": {},
   "source": [
    "we will paint aligned notes with blue, and non-aligned notes with red"
   ]
  },
  {
   "cell_type": "code",
   "execution_count": 13,
   "id": "469bcf39-6dab-4235-99a7-9b32094b107e",
   "metadata": {},
   "outputs": [
    {
     "data": {
      "image/png": "[encoded data removed]",
      "text/plain": [
       "<Figure size 432x288 with 1 Axes>"
      ]
     },
     "metadata": {
      "needs_background": "light"
     },
     "output_type": "display_data"
    }
   ],
   "source": [
    "for n, note in enumerate(perform_notes):\n",
    "    if note.start < draw_range:\n",
    "        if n in matched_idx:\n",
    "            color = 'b'\n",
    "        else:\n",
    "            color = 'r'\n",
    "        arr_dict = note_to_pixel(note)\n",
    "        # plt.hlines(arr_dict['y'], [arr_dict['x_start'], arr_dict['x_end']])\n",
    "        plt.plot([arr_dict['x_start'], arr_dict['x_end']], [arr_dict['y'], arr_dict['y']], linewidth=4, color=color)"
   ]
  },
  {
   "cell_type": "code",
   "execution_count": null,
   "id": "c961fd9b-da9f-4622-8e8f-b4434cc9a946",
   "metadata": {},
   "outputs": [],
   "source": []
  }
 ],
 "metadata": {
  "jupytext": {
   "formats": "ipynb,py:light"
  },
  "kernelspec": {
   "display_name": "Python 3 (ipykernel)",
   "language": "python",
   "name": "python3"
  },
  "language_info": {
   "codemirror_mode": {
    "name": "ipython",
    "version": 3
   },
   "file_extension": ".py",
   "mimetype": "text/x-python",
   "name": "python",
   "nbconvert_exporter": "python",
   "pygments_lexer": "ipython3",
   "version": "3.9.11"
  }
 },
 "nbformat": 4,
 "nbformat_minor": 5
}
