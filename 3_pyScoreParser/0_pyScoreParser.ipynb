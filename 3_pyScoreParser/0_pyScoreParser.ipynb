{
 "cells": [
  {
   "cell_type": "code",
   "execution_count": 1,
   "id": "e57a7a66-943a-4f91-8f2a-554d2c5a2177",
   "metadata": {},
   "outputs": [],
   "source": [
    "%load_ext autoreload\n",
    "%autoreload\n",
    "from pyScoreParser import data_class\n",
    "from pathlib import Path"
   ]
  },
  {
   "cell_type": "code",
   "execution_count": 2,
   "id": "906d1875-9abe-43b1-adc0-4f3f8dbdb845",
   "metadata": {},
   "outputs": [
    {
     "name": "stdout",
     "output_type": "stream",
     "text": [
      "/data/projects/PerformanceDataTutorial/3_pyScoreParser\n"
     ]
    }
   ],
   "source": [
    "!pwd # should be notebook directory"
   ]
  },
  {
   "cell_type": "code",
   "execution_count": 3,
   "id": "546c85bb-11c2-4c8d-a9d2-c658d4c1ea09",
   "metadata": {},
   "outputs": [],
   "source": [
    "file_root = '../assets/Beethoven_Sonata_8_2/'\n",
    "xml_file = Path(file_root) / 'score.xml'\n",
    "midi_files = [el for el in Path(file_root).glob('*.mid') if 'score' not in el.name]"
   ]
  },
  {
   "cell_type": "code",
   "execution_count": 4,
   "id": "4e27c5f7-ba53-41e8-ab06-4588f197ccfd",
   "metadata": {},
   "outputs": [
    {
     "name": "stdout",
     "output_type": "stream",
     "text": [
      "available_pairs: 1526\n",
      "Number of mismatched notes:  0\n",
      "Matched:1531 (Diff(nonzero_score):98), \n",
      " match after cleaning:1531 (diff:0)\n",
      "Number of Matched Notes: 1531, unmatched notes: 98\n",
      "available_pairs: 1454\n",
      "Number of mismatched notes:  21\n",
      "Matched:1460 (Diff(nonzero_score):169), \n",
      " match after cleaning:1442 (diff:18)\n",
      "Number of Matched Notes: 1442, unmatched notes: 187\n",
      "available_pairs: 1536\n",
      "Number of mismatched notes:  14\n",
      "Matched:1542 (Diff(nonzero_score):87), \n",
      " match after cleaning:1532 (diff:10)\n",
      "Number of Matched Notes: 1532, unmatched notes: 97\n"
     ]
    }
   ],
   "source": [
    "piece_data = data_class.PieceData(xml_path=xml_file,\n",
    "                                  perform_lists=midi_files)"
   ]
  },
  {
   "cell_type": "markdown",
   "id": "ea94a25f-8057-44fc-b11f-b14138f6a0b7",
   "metadata": {},
   "source": [
    "### Score Side"
   ]
  },
  {
   "cell_type": "code",
   "execution_count": 5,
   "id": "5f7d649c-77d4-4543-907f-ba6d05adbed0",
   "metadata": {
    "tags": []
   },
   "outputs": [
    {
     "data": {
      "text/plain": [
       "dict_keys(['xml_obj', 'xml_notes', 'num_notes', 'composer', 'notes_graph', 'score_midi_notes', 'score_match_list', 'score_pairs', 'measure_positions', 'beat_positions', 'section_positions', 'score_features', 'score_midi'])"
      ]
     },
     "execution_count": 5,
     "metadata": {},
     "output_type": "execute_result"
    }
   ],
   "source": [
    "piece_data.score.__dict__.keys()"
   ]
  },
  {
   "cell_type": "code",
   "execution_count": 6,
   "id": "9faa465e-102d-4494-b96a-af3a60398c28",
   "metadata": {},
   "outputs": [
    {
     "data": {
      "text/plain": [
       "1629"
      ]
     },
     "execution_count": 6,
     "metadata": {},
     "output_type": "execute_result"
    }
   ],
   "source": [
    "len(piece_data.score.xml_notes)"
   ]
  },
  {
   "cell_type": "code",
   "execution_count": 7,
   "id": "bb726a62-ce54-4283-b45a-f6dc0193402b",
   "metadata": {},
   "outputs": [
    {
     "data": {
      "text/plain": [
       "1627"
      ]
     },
     "execution_count": 7,
     "metadata": {},
     "output_type": "execute_result"
    }
   ],
   "source": [
    "# number of notes in generated score midi.\n",
    "# = #xml_notes - #overlapped\n",
    "len(piece_data.score.score_midi_notes) "
   ]
  },
  {
   "cell_type": "markdown",
   "id": "0eb59c9e-6658-45cd-b16b-2c8f1613f24e",
   "metadata": {},
   "source": [
    "### Check overlap notes"
   ]
  },
  {
   "cell_type": "code",
   "execution_count": 8,
   "id": "66efbfa6-6138-4844-99ab-014157e7cce9",
   "metadata": {},
   "outputs": [
    {
     "name": "stdout",
     "output_type": "stream",
     "text": [
      "idx:213, {duration: 12, midi_ticks: 55.0, seconds: 0.47619047619047616, pitch: C3, MIDI pitch: 48, voice: 5, velocity: 64} (@time: 49.52380952380952) (@xml: 1248)\n",
      "idx:1435, {duration: 8, midi_ticks: 36.666666666666664, seconds: 0.31746031746031744, pitch: Eb2, MIDI pitch: 39, voice: 5, velocity: 64} (@time: 246.66666666666663) (@xml: 6216)\n"
     ]
    }
   ],
   "source": [
    "# check there are overlap notes\n",
    "for n, note in enumerate(piece_data.score.xml_notes):\n",
    "    if note.is_overlapped ==True:\n",
    "        print(f'idx:{n}, {note}')"
   ]
  },
  {
   "cell_type": "code",
   "execution_count": 9,
   "id": "6a0fd34c-fdfe-47e9-b868-af8af4f15f71",
   "metadata": {},
   "outputs": [
    {
     "data": {
      "text/plain": [
       "1629"
      ]
     },
     "execution_count": 9,
     "metadata": {},
     "output_type": "execute_result"
    }
   ],
   "source": [
    "# number of matched notes between score midi <-> score xml\n",
    "len([el for el in piece_data.score.score_pairs if len(el) != 0 ]) "
   ]
  },
  {
   "cell_type": "markdown",
   "id": "97dfb2d2-c8a8-4f27-b1df-2f88e528d122",
   "metadata": {},
   "source": [
    "overlapped notes does not erased, but matched with same midi note"
   ]
  },
  {
   "cell_type": "code",
   "execution_count": 10,
   "id": "f5ea57d0-e31f-493c-a2a7-848702d6111c",
   "metadata": {},
   "outputs": [
    {
     "data": {
      "text/plain": [
       "[{'xml': <musicxml_parser.note.Note at 0x7fc47604ca00>,\n",
       "  'midi': Note(start=49.522727, end=50.000000, pitch=68, velocity=64)},\n",
       " {'xml': <musicxml_parser.note.Note at 0x7fc476054940>,\n",
       "  'midi': Note(start=49.522727, end=50.952273, pitch=48, velocity=64)},\n",
       " {'xml': <musicxml_parser.note.Note at 0x7fc47605c850>,\n",
       "  'midi': Note(start=49.522727, end=50.952273, pitch=48, velocity=64)},\n",
       " {'xml': <musicxml_parser.note.Note at 0x7fc47604cbe0>,\n",
       "  'midi': Note(start=50.000000, end=50.477273, pitch=63, velocity=64)}]"
      ]
     },
     "execution_count": 10,
     "metadata": {},
     "output_type": "execute_result"
    }
   ],
   "source": [
    "piece_data.score.score_pairs[212:216]"
   ]
  },
  {
   "cell_type": "markdown",
   "id": "9d36806d-09fb-4a34-8c18-ecc915d2e49c",
   "metadata": {},
   "source": [
    "## Performance Side"
   ]
  },
  {
   "cell_type": "code",
   "execution_count": 11,
   "id": "8feb6c2d-8dcb-4e30-b2bc-db71c856cfa4",
   "metadata": {},
   "outputs": [
    {
     "data": {
      "text/plain": [
       "dict_keys(['midi_path', 'meta', 'midi', 'midi_notes', 'corresp_path', 'corresp', 'match_between_xml_perf', 'mismatched_indices', 'pairs', 'valid_position_pairs', 'num_matched_notes', 'num_unmatched_notes', 'tempos', 'perform_features'])"
      ]
     },
     "execution_count": 11,
     "metadata": {},
     "output_type": "execute_result"
    }
   ],
   "source": [
    "piece_data.performances[0].__dict__.keys()"
   ]
  },
  {
   "cell_type": "code",
   "execution_count": 12,
   "id": "5170d26c-862f-4c05-b3e2-0f58367f13ff",
   "metadata": {},
   "outputs": [
    {
     "data": {
      "text/plain": [
       "1576"
      ]
     },
     "execution_count": 12,
     "metadata": {},
     "output_type": "execute_result"
    }
   ],
   "source": [
    "# midi notes\n",
    "len(piece_data.performances[0].midi_notes)"
   ]
  },
  {
   "cell_type": "code",
   "execution_count": 13,
   "id": "e1f6cdea-db7c-4905-815c-4f2a59b3a166",
   "metadata": {
    "lines_to_next_cell": 2
   },
   "outputs": [
    {
     "name": "stdout",
     "output_type": "stream",
     "text": [
      "[[], [], [], 2, 3, 4, 6, 7, 5, 8, 9, 10, 11, 12, 13, 14, 15, 16, 18, 17]\n"
     ]
    }
   ],
   "source": [
    "# matched index between score_pairs <-> performance midi\n",
    "# if match_between_xml_perf[i] == j,\n",
    "# score.xml_notes[i] is aligned with perform.midi_notes[j]\n",
    "\n",
    "print(piece_data.performances[0].match_between_xml_perf[:20])"
   ]
  },
  {
   "cell_type": "markdown",
   "id": "85f140e3-ecc9-4dba-9aa8-9339a5ce16ec",
   "metadata": {},
   "source": [
    "Empty elements indicates the note was not matched either in score midi alignment, or perform midi alignment"
   ]
  },
  {
   "cell_type": "code",
   "execution_count": 14,
   "id": "b77dda88-7ec7-4288-a60c-70b56ab73d56",
   "metadata": {},
   "outputs": [
    {
     "name": "stdout",
     "output_type": "stream",
     "text": [
      "1629\n"
     ]
    }
   ],
   "source": [
    "print(len(piece_data.performances[0].match_between_xml_perf)) # same as len(xml_notes)"
   ]
  },
  {
   "cell_type": "code",
   "execution_count": 15,
   "id": "545d674d-89d9-45fc-be9c-a2cd6e0273a9",
   "metadata": {},
   "outputs": [
    {
     "name": "stdout",
     "output_type": "stream",
     "text": [
      "[]\n",
      "[]\n",
      "[]\n",
      "{'xml': <musicxml_parser.note.Note object at 0x7fc476117100>, 'midi': Note(start=1.376042, end=4.738542, pitch=51, velocity=39)}\n",
      "{'xml': <musicxml_parser.note.Note object at 0x7fc4761172e0>, 'midi': Note(start=1.825000, end=2.944792, pitch=56, velocity=34)}\n",
      "{'xml': <musicxml_parser.note.Note object at 0x7fc4761174f0>, 'midi': Note(start=2.240625, end=4.738542, pitch=51, velocity=39)}\n",
      "{'xml': <musicxml_parser.note.Note object at 0x7fc47610dd00>, 'midi': Note(start=2.753125, end=4.738542, pitch=58, velocity=59)}\n",
      "{'xml': <musicxml_parser.note.Note object at 0x7fc4761176d0>, 'midi': Note(start=2.785417, end=4.738542, pitch=55, velocity=42)}\n",
      "{'xml': <musicxml_parser.note.Note object at 0x7fc47611c0a0>, 'midi': Note(start=2.753125, end=4.738542, pitch=49, velocity=36)}\n",
      "{'xml': <musicxml_parser.note.Note object at 0x7fc4761178b0>, 'midi': Note(start=3.201042, end=4.738542, pitch=51, velocity=39)}\n",
      "1629\n"
     ]
    }
   ],
   "source": [
    "for pair in piece_data.performances[0].pairs[:10]:\n",
    "    print(pair)\n",
    "print(len(piece_data.performances[0].pairs)) # same as len(xml_notes)"
   ]
  }
 ],
 "metadata": {
  "jupytext": {
   "formats": "ipynb,py:light"
  },
  "kernelspec": {
   "display_name": "Python 3 (ipykernel)",
   "language": "python",
   "name": "python3"
  },
  "language_info": {
   "codemirror_mode": {
    "name": "ipython",
    "version": 3
   },
   "file_extension": ".py",
   "mimetype": "text/x-python",
   "name": "python",
   "nbconvert_exporter": "python",
   "pygments_lexer": "ipython3",
   "version": "3.9.11"
  }
 },
 "nbformat": 4,
 "nbformat_minor": 5
}
